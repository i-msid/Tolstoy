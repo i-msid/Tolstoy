{
 "cells": [
  {
   "cell_type": "code",
   "execution_count": 4,
   "metadata": {},
   "outputs": [],
   "source": [
    "import numpy as np\n",
    "import pandas as pd\n",
    "import os\n",
    "import re\n",
    "import string\n",
    "from nltk.tokenize import word_tokenize\n",
    "from nltk.corpus import stopwords\n",
    "import random"
   ]
  },
  {
   "cell_type": "markdown",
   "metadata": {},
   "source": [
    "### Reading all the novels by Leo Tosltoy"
   ]
  },
  {
   "cell_type": "code",
   "execution_count": 9,
   "metadata": {},
   "outputs": [
    {
     "name": "stdout",
     "output_type": "stream",
     "text": [
      "Books Read Sucessfully!\n",
      "length of txt =  98493\n"
     ]
    }
   ],
   "source": [
    "txt = []\n",
    "# reading war and peace\n",
    "with open(\"wnp.txt\",\"r\") as f:\n",
    "    for line in f:\n",
    "        line = line.strip()\n",
    "        if line == '----------': break\n",
    "        if line != '':txt.append(line)\n",
    "# reading anna karenina\n",
    "with open(\"ak.txt\",\"r\") as f:\n",
    "    for line in f:\n",
    "        line = line.strip()\n",
    "        if line == '----------': break\n",
    "        if line != '':txt.append(line)\n",
    "# reading ressurection\n",
    "with open(\"res.txt\",\"r\") as f:\n",
    "    for line in f:\n",
    "        line = line.strip()\n",
    "        if line == '----------': break\n",
    "        if line != '':txt.append(line)\n",
    "\n",
    "print(\"Books Read Sucessfully!\")\n",
    "print(\"length of txt = \",len(txt));"
   ]
  },
  {
   "cell_type": "markdown",
   "metadata": {},
   "source": [
    "## Cleaning the text"
   ]
  },
  {
   "cell_type": "code",
   "execution_count": 10,
   "metadata": {},
   "outputs": [
    {
     "name": "stdout",
     "output_type": "stream",
     "text": [
      "number of words =  1088549\n"
     ]
    }
   ],
   "source": [
    "cleaned_txt = []\n",
    "for line in txt:\n",
    "    line = line.lower()\n",
    "    line = re.sub(r\"[,.\\\"\\'!@#$%^&*(){}?/;`~:<>+=-\\\\]\", \"\", line)\n",
    "    tokens = word_tokenize(line)\n",
    "    words = [word for word in tokens if word.isalpha()]\n",
    "    cleaned_txt+=words\n",
    "print(\"number of words = \", len(cleaned_txt))"
   ]
  },
  {
   "cell_type": "markdown",
   "metadata": {},
   "source": [
    "## Creating the markov model\n",
    "Few key observations:\n",
    "1. Our model will store the transition probabilites from current state to next state.\n",
    "2. Instead of using single word state, we can produce multiple word state to provide some context to the model.\n",
    "3. Probability from a state s to a state e can be calculated as `total number of edges from s to e / total outdegree of s`\n",
    "\n"
   ]
  },
  {
   "cell_type": "code",
   "execution_count": 11,
   "metadata": {},
   "outputs": [],
   "source": [
    "def make_markov_model(cleaned_stories, n_gram=2):\n",
    "    markov_model = {}\n",
    "    for i in range(len(cleaned_stories)-n_gram-1):\n",
    "        curr_state, next_state = \"\", \"\"\n",
    "        for j in range(n_gram):\n",
    "            curr_state += cleaned_stories[i+j] + \" \"\n",
    "            next_state += cleaned_stories[i+j+n_gram] + \" \"\n",
    "        curr_state = curr_state[:-1]\n",
    "        next_state = next_state[:-1]\n",
    "        if curr_state not in markov_model:\n",
    "            markov_model[curr_state] = {}\n",
    "            markov_model[curr_state][next_state] = 1\n",
    "        else:\n",
    "            if next_state in markov_model[curr_state]:\n",
    "                markov_model[curr_state][next_state] += 1\n",
    "            else:\n",
    "                markov_model[curr_state][next_state] = 1\n",
    "    \n",
    "    # calculating transition probabilities\n",
    "    for curr_state, transition in markov_model.items():\n",
    "        total = sum(transition.values())\n",
    "        for state, count in transition.items():\n",
    "            markov_model[curr_state][state] = count/total\n",
    "        \n",
    "    return markov_model"
   ]
  },
  {
   "cell_type": "code",
   "execution_count": 12,
   "metadata": {},
   "outputs": [],
   "source": [
    "markov_model = make_markov_model(cleaned_txt)"
   ]
  },
  {
   "cell_type": "code",
   "execution_count": 13,
   "metadata": {},
   "outputs": [
    {
     "name": "stdout",
     "output_type": "stream",
     "text": [
      "number of states =  320713\n"
     ]
    }
   ],
   "source": [
    "print(\"number of states = \", len(markov_model.keys()))"
   ]
  },
  {
   "cell_type": "code",
   "execution_count": 22,
   "metadata": {},
   "outputs": [
    {
     "name": "stdout",
     "output_type": "stream",
     "text": [
      "All possible transitions from 'world is' state: \n",
      "\n",
      "{'not right': 0.1, 'the talk': 0.1, 'so opposed': 0.1, 'now for': 0.1, 'terrible he': 0.1, 'well known': 0.1, 'done by': 0.1, 'base and': 0.1, 'evil he': 0.1, 'difficult i': 0.1}\n"
     ]
    }
   ],
   "source": [
    "print(\"All possible transitions from 'world is' state: \\n\")\n",
    "print(markov_model['world is'])"
   ]
  },
  {
   "cell_type": "code",
   "execution_count": 18,
   "metadata": {},
   "outputs": [],
   "source": [
    "def generate_story(markov_model, limit=100, start='there is'):\n",
    "    n = 0\n",
    "    curr_state = start\n",
    "    next_state = None\n",
    "    story = \"\"\n",
    "    story+=curr_state+\" \"\n",
    "    while n<limit:\n",
    "        next_state = random.choices(list(markov_model[curr_state].keys()),\n",
    "                                    list(markov_model[curr_state].values()))\n",
    "        \n",
    "        curr_state = next_state[0]\n",
    "        story+=curr_state+\" \"\n",
    "        n+=1\n",
    "    return story"
   ]
  },
  {
   "cell_type": "code",
   "execution_count": 21,
   "metadata": {},
   "outputs": [
    {
     "name": "stdout",
     "output_type": "stream",
     "text": [
      "0.  it was a civil service uniform he wore a short time would destroy half \n",
      "1.  it was clear that she saw nothing but far down and deep dip making \n",
      "2.  it was all up when they wish to help the convicts who had arrived \n",
      "3.  it was known that you wished it the count was not angry with me \n",
      "4.  it was as if urging each other on her breast and to have arguments \n",
      "5.  it was an unsurpassable morning for hunting it was as musical as natasha and \n",
      "6.  it was not this spring morning men thought rostov scarcely believing his eyes can \n",
      "7.  it was that having made her dreadfully miserable and that the sick prisoners as \n",
      "8.  it was impossible to make out what was left of the road for familiar \n",
      "9.  it was true that it doesnt matter what about and talk dressmakers came again \n",
      "10.  it was necessary to throw this bone a bill for roubles and offered her \n",
      "11.  it was a swindle and all the rostov party spent the night was finished \n",
      "12.  it was to her husband prince andrews eyes speranski was the son as his \n",
      "13.  it was just then they heard behind them a woman warder dressed in a \n",
      "14.  it was right or wrong the circumstances that could be heard others turned over \n",
      "15.  it was a matter so private that no fresh war another leader was necessary \n",
      "16.  it was the portrait at a time having received this information the little princess \n",
      "17.  it was all nonsense i said im not against the window frame natasha knew \n",
      "18.  it was for our finding grouse but there was still as ready to throw \n",
      "19.  it was easier for me wait a little i want to move their forces \n"
     ]
    }
   ],
   "source": [
    "for i in range(20):\n",
    "    print(str(i)+\". \", generate_story(markov_model,  limit=6, start=\"it was\"))"
   ]
  },
  {
   "cell_type": "code",
   "execution_count": null,
   "metadata": {},
   "outputs": [],
   "source": []
  }
 ],
 "metadata": {
  "kernelspec": {
   "display_name": "Python 3",
   "language": "python",
   "name": "python3"
  },
  "language_info": {
   "codemirror_mode": {
    "name": "ipython",
    "version": 3
   },
   "file_extension": ".py",
   "mimetype": "text/x-python",
   "name": "python",
   "nbconvert_exporter": "python",
   "pygments_lexer": "ipython3",
   "version": "3.8.2"
  }
 },
 "nbformat": 4,
 "nbformat_minor": 4
}
